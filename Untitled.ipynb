{
  "nbformat": 4,
  "nbformat_minor": 0,
  "metadata": {
    "colab": {
      "provenance": []
    },
    "kernelspec": {
      "name": "python3",
      "display_name": "Python 3"
    },
    "language_info": {
      "name": "python"
    }
  },
  "cells": [
    {
      "cell_type": "code",
      "execution_count": 52,
      "metadata": {
        "id": "BNdYtvorraN7"
      },
      "outputs": [],
      "source": []
    },
    {
      "cell_type": "markdown",
      "source": [
        "# How to Get data from Google Drive"
      ],
      "metadata": {
        "id": "fT5_7_8i0UzQ"
      }
    },
    {
      "cell_type": "markdown",
      "source": [
        "## Step 1 : Import packages\n"
      ],
      "metadata": {
        "id": "T35Ejg7N0Zdc"
      }
    },
    {
      "cell_type": "code",
      "source": [
        "import pandas as pd\n",
        "from google.colab import drive\n",
        "import matplotlib.pyplot as plt"
      ],
      "metadata": {
        "id": "42f1JWG7uKUm"
      },
      "execution_count": 56,
      "outputs": []
    },
    {
      "cell_type": "markdown",
      "source": [
        "# Step 2 : Connect G Colab to G Drive"
      ],
      "metadata": {
        "id": "z440OrhY0740"
      }
    },
    {
      "cell_type": "code",
      "source": [
        "drive.mount('/content/gdrive/', force_remount=True)"
      ],
      "metadata": {
        "colab": {
          "base_uri": "https://localhost:8080/"
        },
        "id": "p5VC8YglvyHP",
        "outputId": "f0e1b455-b120-4034-cc61-4c268ffeb473"
      },
      "execution_count": 4,
      "outputs": [
        {
          "output_type": "stream",
          "name": "stdout",
          "text": [
            "Mounted at /content/gdrive/\n"
          ]
        }
      ]
    },
    {
      "cell_type": "markdown",
      "source": [
        "## Step 3 : Read Data"
      ],
      "metadata": {
        "id": "M0Ak3Ig41Fn_"
      }
    },
    {
      "cell_type": "code",
      "source": [
        "df = pd.read_csv(\"/content/gdrive/MyDrive/ECON441B/^VIX.csv\")"
      ],
      "metadata": {
        "id": "AXJpqrASyxT7"
      },
      "execution_count": 57,
      "outputs": []
    },
    {
      "cell_type": "markdown",
      "source": [
        "# Step 4 : Data Cleaning and Viz"
      ],
      "metadata": {
        "id": "9R51MctQ1ax4"
      }
    },
    {
      "cell_type": "code",
      "source": [],
      "metadata": {
        "id": "1qoUVntJ1aFs"
      },
      "execution_count": null,
      "outputs": []
    },
    {
      "cell_type": "code",
      "source": [],
      "metadata": {
        "id": "3-ia012_1XLC"
      },
      "execution_count": 62,
      "outputs": []
    },
    {
      "cell_type": "code",
      "source": [
        "plt.plot(df.set_index(\"Date\")[[\"Close\"]])\n",
        "plt.show()"
      ],
      "metadata": {
        "colab": {
          "base_uri": "https://localhost:8080/",
          "height": 265
        },
        "id": "nx1UKOhsyYs2",
        "outputId": "b0d248ef-f850-46ca-d5de-2e460b81af51"
      },
      "execution_count": 62,
      "outputs": [
        {
          "output_type": "display_data",
          "data": {
            "text/plain": [
              "<Figure size 432x288 with 1 Axes>"
            ],
            "image/png": "[encoded data removed]"
          },
          "metadata": {
            "needs_background": "light"
          }
        }
      ]
    },
    {
      "cell_type": "code",
      "source": [
        "df"
      ],
      "metadata": {
        "colab": {
          "base_uri": "https://localhost:8080/",
          "height": 424
        },
        "id": "JFQDqD2txdTm",
        "outputId": "a624a08d-f597-4aba-8a3a-20f4ae045440"
      },
      "execution_count": 61,
      "outputs": [
        {
          "output_type": "execute_result",
          "data": {
            "text/plain": [
              "          Date       Open       High        Low      Close  Adj Close  Volume\n",
              "0   2020-02-19  14.660000  14.740000  14.210000  14.380000  14.380000       0\n",
              "1   2020-02-20  14.540000  17.209999  14.490000  15.560000  15.560000       0\n",
              "2   2020-02-21  17.330000  18.209999  16.190001  17.080000  17.080000       0\n",
              "3   2020-02-24  22.250000  26.350000  22.000000  25.030001  25.030001       0\n",
              "4   2020-02-25  23.280001  30.250000  22.620001  27.850000  27.850000       0\n",
              "..         ...        ...        ...        ...        ...        ...     ...\n",
              "87  2020-06-23  31.709999  31.709999  29.260000  31.370001  31.370001       0\n",
              "88  2020-06-24  31.049999  37.119999  30.950001  33.840000  33.840000       0\n",
              "89  2020-06-25  36.590000  36.930000  31.590000  32.220001  32.220001       0\n",
              "90  2020-06-26  33.009998  36.250000  31.040001  34.730000  34.730000       0\n",
              "91  2020-06-29  35.049999  36.310001  31.780001  31.780001  31.780001       0\n",
              "\n",
              "[92 rows x 7 columns]"
            ],
            "text/html": [
              "\n",
              "  <div id=\"df-16a37708-ea5e-45e6-81fe-f740b3581f29\">\n",
              "    <div class=\"colab-df-container\">\n",
              "      <div>\n",
              "<style scoped>\n",
              "    .dataframe tbody tr th:only-of-type {\n",
              "        vertical-align: middle;\n",
              "    }\n",
              "\n",
              "    .dataframe tbody tr th {\n",
              "        vertical-align: top;\n",
              "    }\n",
              "\n",
              "    .dataframe thead th {\n",
              "        text-align: right;\n",
              "    }\n",
              "</style>\n",
              "<table border=\"1\" class=\"dataframe\">\n",
              "  <thead>\n",
              "    <tr style=\"text-align: right;\">\n",
              "      <th></th>\n",
              "      <th>Date</th>\n",
              "      <th>Open</th>\n",
              "      <th>High</th>\n",
              "      <th>Low</th>\n",
              "      <th>Close</th>\n",
              "      <th>Adj Close</th>\n",
              "      <th>Volume</th>\n",
              "    </tr>\n",
              "  </thead>\n",
              "  <tbody>\n",
              "    <tr>\n",
              "      <th>0</th>\n",
              "      <td>2020-02-19</td>\n",
              "      <td>14.660000</td>\n",
              "      <td>14.740000</td>\n",
              "      <td>14.210000</td>\n",
              "      <td>14.380000</td>\n",
              "      <td>14.380000</td>\n",
              "      <td>0</td>\n",
              "    </tr>\n",
              "    <tr>\n",
              "      <th>1</th>\n",
              "      <td>2020-02-20</td>\n",
              "      <td>14.540000</td>\n",
              "      <td>17.209999</td>\n",
              "      <td>14.490000</td>\n",
              "      <td>15.560000</td>\n",
              "      <td>15.560000</td>\n",
              "      <td>0</td>\n",
              "    </tr>\n",
              "    <tr>\n",
              "      <th>2</th>\n",
              "      <td>2020-02-21</td>\n",
              "      <td>17.330000</td>\n",
              "      <td>18.209999</td>\n",
              "      <td>16.190001</td>\n",
              "      <td>17.080000</td>\n",
              "      <td>17.080000</td>\n",
              "      <td>0</td>\n",
              "    </tr>\n",
              "    <tr>\n",
              "      <th>3</th>\n",
              "      <td>2020-02-24</td>\n",
              "      <td>22.250000</td>\n",
              "      <td>26.350000</td>\n",
              "      <td>22.000000</td>\n",
              "      <td>25.030001</td>\n",
              "      <td>25.030001</td>\n",
              "      <td>0</td>\n",
              "    </tr>\n",
              "    <tr>\n",
              "      <th>4</th>\n",
              "      <td>2020-02-25</td>\n",
              "      <td>23.280001</td>\n",
              "      <td>30.250000</td>\n",
              "      <td>22.620001</td>\n",
              "      <td>27.850000</td>\n",
              "      <td>27.850000</td>\n",
              "      <td>0</td>\n",
              "    </tr>\n",
              "    <tr>\n",
              "      <th>...</th>\n",
              "      <td>...</td>\n",
              "      <td>...</td>\n",
              "      <td>...</td>\n",
              "      <td>...</td>\n",
              "      <td>...</td>\n",
              "      <td>...</td>\n",
              "      <td>...</td>\n",
              "    </tr>\n",
              "    <tr>\n",
              "      <th>87</th>\n",
              "      <td>2020-06-23</td>\n",
              "      <td>31.709999</td>\n",
              "      <td>31.709999</td>\n",
              "      <td>29.260000</td>\n",
              "      <td>31.370001</td>\n",
              "      <td>31.370001</td>\n",
              "      <td>0</td>\n",
              "    </tr>\n",
              "    <tr>\n",
              "      <th>88</th>\n",
              "      <td>2020-06-24</td>\n",
              "      <td>31.049999</td>\n",
              "      <td>37.119999</td>\n",
              "      <td>30.950001</td>\n",
              "      <td>33.840000</td>\n",
              "      <td>33.840000</td>\n",
              "      <td>0</td>\n",
              "    </tr>\n",
              "    <tr>\n",
              "      <th>89</th>\n",
              "      <td>2020-06-25</td>\n",
              "      <td>36.590000</td>\n",
              "      <td>36.930000</td>\n",
              "      <td>31.590000</td>\n",
              "      <td>32.220001</td>\n",
              "      <td>32.220001</td>\n",
              "      <td>0</td>\n",
              "    </tr>\n",
              "    <tr>\n",
              "      <th>90</th>\n",
              "      <td>2020-06-26</td>\n",
              "      <td>33.009998</td>\n",
              "      <td>36.250000</td>\n",
              "      <td>31.040001</td>\n",
              "      <td>34.730000</td>\n",
              "      <td>34.730000</td>\n",
              "      <td>0</td>\n",
              "    </tr>\n",
              "    <tr>\n",
              "      <th>91</th>\n",
              "      <td>2020-06-29</td>\n",
              "      <td>35.049999</td>\n",
              "      <td>36.310001</td>\n",
              "      <td>31.780001</td>\n",
              "      <td>31.780001</td>\n",
              "      <td>31.780001</td>\n",
              "      <td>0</td>\n",
              "    </tr>\n",
              "  </tbody>\n",
              "</table>\n",
              "<p>92 rows × 7 columns</p>\n",
              "</div>\n",
              "      <button class=\"colab-df-convert\" onclick=\"convertToInteractive('df-16a37708-ea5e-45e6-81fe-f740b3581f29')\"\n",
              "              title=\"Convert this dataframe to an interactive table.\"\n",
              "              style=\"display:none;\">\n",
              "        \n",
              "  <svg xmlns=\"http://www.w3.org/2000/svg\" height=\"24px\"viewBox=\"0 0 24 24\"\n",
              "       width=\"24px\">\n",
              "    <path d=\"M0 0h24v24H0V0z\" fill=\"none\"/>\n",
              "    <path d=\"M18.56 5.44l.94 2.06.94-2.06 2.06-.94-2.06-.94-.94-2.06-.94 2.06-2.06.94zm-11 1L8.5 8.5l.94-2.06 2.06-.94-2.06-.94L8.5 2.5l-.94 2.06-2.06.94zm10 10l.94 2.06.94-2.06 2.06-.94-2.06-.94-.94-2.06-.94 2.06-2.06.94z\"/><path d=\"M17.41 7.96l-1.37-1.37c-.4-.4-.92-.59-1.43-.59-.52 0-1.04.2-1.43.59L10.3 9.45l-7.72 7.72c-.78.78-.78 2.05 0 2.83L4 21.41c.39.39.9.59 1.41.59.51 0 1.02-.2 1.41-.59l7.78-7.78 2.81-2.81c.8-.78.8-2.07 0-2.86zM5.41 20L4 18.59l7.72-7.72 1.47 1.35L5.41 20z\"/>\n",
              "  </svg>\n",
              "      </button>\n",
              "      \n",
              "  <style>\n",
              "    .colab-df-container {\n",
              "      display:flex;\n",
              "      flex-wrap:wrap;\n",
              "      gap: 12px;\n",
              "    }\n",
              "\n",
              "    .colab-df-convert {\n",
              "      background-color: #E8F0FE;\n",
              "      border: none;\n",
              "      border-radius: 50%;\n",
              "      cursor: pointer;\n",
              "      display: none;\n",
              "      fill: #1967D2;\n",
              "      height: 32px;\n",
              "      padding: 0 0 0 0;\n",
              "      width: 32px;\n",
              "    }\n",
              "\n",
              "    .colab-df-convert:hover {\n",
              "      background-color: #E2EBFA;\n",
              "      box-shadow: 0px 1px 2px rgba(60, 64, 67, 0.3), 0px 1px 3px 1px rgba(60, 64, 67, 0.15);\n",
              "      fill: #174EA6;\n",
              "    }\n",
              "\n",
              "    [theme=dark] .colab-df-convert {\n",
              "      background-color: #3B4455;\n",
              "      fill: #D2E3FC;\n",
              "    }\n",
              "\n",
              "    [theme=dark] .colab-df-convert:hover {\n",
              "      background-color: #434B5C;\n",
              "      box-shadow: 0px 1px 3px 1px rgba(0, 0, 0, 0.15);\n",
              "      filter: drop-shadow(0px 1px 2px rgba(0, 0, 0, 0.3));\n",
              "      fill: #FFFFFF;\n",
              "    }\n",
              "  </style>\n",
              "\n",
              "      <script>\n",
              "        const buttonEl =\n",
              "          document.querySelector('#df-16a37708-ea5e-45e6-81fe-f740b3581f29 button.colab-df-convert');\n",
              "        buttonEl.style.display =\n",
              "          google.colab.kernel.accessAllowed ? 'block' : 'none';\n",
              "\n",
              "        async function convertToInteractive(key) {\n",
              "          const element = document.querySelector('#df-16a37708-ea5e-45e6-81fe-f740b3581f29');\n",
              "          const dataTable =\n",
              "            await google.colab.kernel.invokeFunction('convertToInteractive',\n",
              "                                                     [key], {});\n",
              "          if (!dataTable) return;\n",
              "\n",
              "          const docLinkHtml = 'Like what you see? Visit the ' +\n",
              "            '<a target=\"_blank\" href=https://colab.research.google.com/notebooks/data_table.ipynb>data table notebook</a>'\n",
              "            + ' to learn more about interactive tables.';\n",
              "          element.innerHTML = '';\n",
              "          dataTable['output_type'] = 'display_data';\n",
              "          await google.colab.output.renderOutput(dataTable, element);\n",
              "          const docLink = document.createElement('div');\n",
              "          docLink.innerHTML = docLinkHtml;\n",
              "          element.appendChild(docLink);\n",
              "        }\n",
              "      </script>\n",
              "    </div>\n",
              "  </div>\n",
              "  "
            ]
          },
          "metadata": {},
          "execution_count": 61
        }
      ]
    },
    {
      "cell_type": "code",
      "source": [],
      "metadata": {
        "id": "vO5Z0BNywpIa"
      },
      "execution_count": 52,
      "outputs": []
    },
    {
      "cell_type": "code",
      "source": [],
      "metadata": {
        "id": "tXSYaZjsw3Am"
      },
      "execution_count": null,
      "outputs": []
    }
  ]
}